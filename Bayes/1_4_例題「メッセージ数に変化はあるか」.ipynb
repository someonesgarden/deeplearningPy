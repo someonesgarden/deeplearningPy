{
 "cells": [
  {
   "cell_type": "code",
   "execution_count": 1,
   "metadata": {
    "collapsed": true
   },
   "outputs": [],
   "source": [
    "from IPython.core.pylabtools import figsize\n",
    "import numpy as np\n",
    "from matplotlib import pyplot as plt\n",
    "%matplotlib inline\n",
    "figsize(12.5,  4)"
   ]
  },
  {
   "cell_type": "markdown",
   "metadata": {},
   "source": [
    "フォルダ作成＋データ読み込み"
   ]
  },
  {
   "cell_type": "code",
   "execution_count": 12,
   "metadata": {
    "collapsed": false
   },
   "outputs": [
    {
     "data": {
      "text/plain": [
       "('data/txtdata', <http.client.HTTPMessage at 0x1061d89e8>)"
      ]
     },
     "execution_count": 12,
     "metadata": {},
     "output_type": "execute_result"
    }
   ],
   "source": [
    "from os import makedirs\n",
    "makedirs(\"data\", exist_ok=True)\n",
    "\n",
    "from urllib.request import urlretrieve\n",
    "urlretrieve(\"https://git.io/vXTVC\", \"data/txtdata\")"
   ]
  },
  {
   "cell_type": "code",
   "execution_count": 25,
   "metadata": {
    "collapsed": false
   },
   "outputs": [
    {
     "data": {
      "text/plain": [
       "(0, 74)"
      ]
     },
     "execution_count": 25,
     "metadata": {},
     "output_type": "execute_result"
    },
    {
     "data": {
      "image/png": "[encoded data removed]",
      "text/plain": [
       "<matplotlib.figure.Figure at 0x107defef0>"
      ]
     },
     "metadata": {},
     "output_type": "display_data"
    }
   ],
   "source": [
    "count_data  = np.loadtxt(\"data/txtdata\")\n",
    "n_count_data  = len(count_data)\n",
    "plt.bar(np.arange(n_count_data),count_data,alpha=0.7, color=\"#234a32\")\n",
    "plt.xlabel(\"Time (days)\")\n",
    "plt.ylabel(\"Text messages received\")\n",
    "plt.title(\"Did the user's texting habits change over time?\")\n",
    "plt.xlim(0, n_count_data)"
   ]
  },
  {
   "cell_type": "markdown",
   "metadata": {},
   "source": [
    "0以上の離散データなのでPoisson分布で考える。\n",
    "\n",
    "i日目のメッセージ数を\n",
    "$C_i$\n",
    "とすると \n",
    "\n",
    "### $C_i  \\sim Poi(\\lambda)$\n",
    "\n",
    "と書ける。\n",
    "\n",
    "#### 急激に変化する場所 (SwitchPoint)がある場合, $\\lambda$のあたいも切り替わるはずである。\n",
    "$\\lambda =\\left\\{\n",
    "\\begin{array}{ll}\n",
    "\\lambda_1 & (t \\lt \\tau) \\\\\n",
    "\\lambda_2 & (t \\geq \\tau)\n",
    "\\end{array}\n",
    "\\right.$\n",
    "#### 変化がない場合は $\\lambda_1 = \\lambda_2$ となる。\n",
    "そのため、二つの未知数$\\lambda_1$と$\\lambda_2$を推測すればいい。"
   ]
  },
  {
   "cell_type": "markdown",
   "metadata": {},
   "source": [
    "$\\lambda$は「正の実数」になるので、指数分布がちょうど良い。\n",
    "\n",
    "### $\\lambda_1 \\sim \\exp(\\alpha) $\n",
    "### $\\lambda_2 \\sim \\exp(\\alpha) $\n",
    "$\\alpha$\n",
    "はハイパーパラメータである。ここでは単に係数データの平均値の逆数とする。\n",
    "\n",
    "### $\\frac{1}{N} \\sum_{i=0}^N C_i \\simeq E[\\lambda|\\alpha] = \\frac{1}{\\alpha}   $\n",
    "変化点($\\tau$)は決められないので、一様分布（uniform distribution)を利用する。\n",
    "\n",
    "### $\\tau \\sim  DiscreteUniform(1, 70) \\Rightarrow P(\\tau=k) = \\frac{1}{70} $"
   ]
  },
  {
   "cell_type": "code",
   "execution_count": 30,
   "metadata": {
    "collapsed": false
   },
   "outputs": [],
   "source": [
    "#pymc の導入\n",
    "import pymc as pm\n",
    "\n",
    "alpha = 1.0 / count_data.mean()\n",
    "lambda_1 = pm.Exponential(\"lambda_1\", alpha)\n",
    "lambda_2 = pm.Exponential(\"lambda_2\", alpha)\n",
    "tau = pm.DiscreteUniform(\"tau\", lower=0, upper=n_count_data)"
   ]
  },
  {
   "cell_type": "code",
   "execution_count": 33,
   "metadata": {
    "collapsed": false
   },
   "outputs": [
    {
     "name": "stdout",
     "output_type": "stream",
     "text": [
      "Random outout 23 4 67\n"
     ]
    }
   ],
   "source": [
    "# 呼び出しの練習\n",
    "print(\"Random outout\", tau.random(), tau.random(),  tau.random())"
   ]
  },
  {
   "cell_type": "code",
   "execution_count": 35,
   "metadata": {
    "collapsed": true
   },
   "outputs": [],
   "source": [
    "@pm.deterministic\n",
    "def lambda_(tau=tau, lambda_1=lambda_1, lambda_2=lambda_2):\n",
    "    out = np.zeros(n_count_data)\n",
    "    out[tau:]=lambda_1\n",
    "    out[:tau]=lambda_2\n",
    "    return out"
   ]
  },
  {
   "cell_type": "markdown",
   "metadata": {},
   "source": [
    "### "
   ]
  },
  {
   "cell_type": "code",
   "execution_count": 36,
   "metadata": {
    "collapsed": true
   },
   "outputs": [],
   "source": [
    "observation = pm.Poisson(\"obs\", lambda_, value=count_data, observed=True)\n",
    "model = pm.Model([observation, lambda_1, lambda_2, tau])"
   ]
  },
  {
   "cell_type": "markdown",
   "metadata": {},
   "source": [
    "### MCMCの学習ステップ"
   ]
  },
  {
   "cell_type": "code",
   "execution_count": 37,
   "metadata": {
    "collapsed": false
   },
   "outputs": [
    {
     "name": "stdout",
     "output_type": "stream",
     "text": [
      " [-----------------100%-----------------] 40000 of 40000 complete in 4.5 sec"
     ]
    }
   ],
   "source": [
    "mcmc = pm.MCMC(model)\n",
    "mcmc.sample(40000,10000)"
   ]
  },
  {
   "cell_type": "code",
   "execution_count": 46,
   "metadata": {
    "collapsed": true
   },
   "outputs": [],
   "source": [
    "lambda_1_samples = mcmc.trace('lambda_1')[:]\n",
    "lambda_2_samples = mcmc.trace('lambda_2')[:]\n",
    "tau_samples = mcmc.trace(\"tau\")[:]"
   ]
  },
  {
   "cell_type": "code",
   "execution_count": 59,
   "metadata": {
    "collapsed": false
   },
   "outputs": [
    {
     "data": {
      "text/plain": [
       "<matplotlib.text.Text at 0x10ced9cc0>"
      ]
     },
     "execution_count": 59,
     "metadata": {},
     "output_type": "execute_result"
    },
    {
     "data": {
      "image/png": "[encoded data removed]",
      "text/plain": [
       "<matplotlib.figure.Figure at 0x10b779208>"
      ]
     },
     "metadata": {},
     "output_type": "display_data"
    }
   ],
   "source": [
    "#プロット\n",
    "figsize(14.5, 10)\n",
    "\n",
    "ax = plt.subplot(311)\n",
    "ax.set_autoscaley_on(False)\n",
    "plt.hist(lambda_1_samples, histtype=\"stepfilled\", bins=30, alpha=0.85, color=\"#a2223a\", normed=True, label=\"posterior of $\\lambda_1$\")\n",
    "plt.legend(loc=\"upper right\")\n",
    "plt.title(\"Posterior distributions of the parameters $\\lambda_1, \\lambda_2,  \\tau$\")"
   ]
  },
  {
   "cell_type": "code",
   "execution_count": null,
   "metadata": {
    "collapsed": true
   },
   "outputs": [],
   "source": [
    ""
   ]
  }
 ],
 "metadata": {
  "kernelspec": {
   "display_name": "Python 3",
   "language": "python",
   "name": "python3"
  },
  "language_info": {
   "codemirror_mode": {
    "name": "ipython",
    "version": 3.0
   },
   "file_extension": ".py",
   "mimetype": "text/x-python",
   "name": "python",
   "nbconvert_exporter": "python",
   "pygments_lexer": "ipython3",
   "version": "3.5.2"
  }
 },
 "nbformat": 4,
 "nbformat_minor": 0
}