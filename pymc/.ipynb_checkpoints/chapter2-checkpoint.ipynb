{
 "cells": [
  {
   "cell_type": "code",
   "execution_count": 18,
   "metadata": {
    "collapsed": false
   },
   "outputs": [
    {
     "name": "stdout",
     "output_type": "stream",
     "text": [
      "Children  of lambda_:\n",
      "{<pymc.distributions.new_dist_class.<locals>.new_class 'data_generator' at 0x105f3a7b8>} \n",
      "\n",
      "Parents of data_generator:\n",
      "{'mu': <pymc.distributions.new_dist_class.<locals>.new_class 'poisson_param' at 0x105f3a780>} \n",
      "\n",
      "Children of data_generator:\n",
      "{<pymc.PyMCObjects.Deterministic '(data_generator_add_1)' at 0x105f3a7f0>}\n"
     ]
    }
   ],
   "source": [
    "import pymc as pm\n",
    "lambda_ = pm.Exponential(\"poisson_param\", 1)\n",
    "data_generator = pm.Poisson(\"data_generator\", lambda_)\n",
    "data_plus_one = data_generator + 1\n",
    "\n",
    "print(\"Children  of lambda_:\")\n",
    "print(lambda_.children, \"\\n\")\n",
    "print(\"Parents of data_generator:\")\n",
    "print(data_generator.parents, \"\\n\")\n",
    "print(\"Children of data_generator:\")\n",
    "print(data_generator.children)"
   ]
  },
  {
   "cell_type": "code",
   "execution_count": 15,
   "metadata": {
    "collapsed": false
   },
   "outputs": [
    {
     "name": "stdout",
     "output_type": "stream",
     "text": [
      "0.06801899795760488\n"
     ]
    }
   ],
   "source": [
    "print(lambda_.value)"
   ]
  },
  {
   "cell_type": "code",
   "execution_count": 16,
   "metadata": {
    "collapsed": false
   },
   "outputs": [
    {
     "name": "stdout",
     "output_type": "stream",
     "text": [
      "0.15070898950852038\n"
     ]
    }
   ],
   "source": [
    "lambda_.random()\n",
    "print(lambda_.value)"
   ]
  },
  {
   "cell_type": "code",
   "execution_count": null,
   "metadata": {
    "collapsed": true
   },
   "outputs": [],
   "source": []
  }
 ],
 "metadata": {
  "kernelspec": {
   "display_name": "Python 3",
   "language": "python",
   "name": "python3"
  },
  "language_info": {
   "codemirror_mode": {
    "name": "ipython",
    "version": 3
   },
   "file_extension": ".py",
   "mimetype": "text/x-python",
   "name": "python",
   "nbconvert_exporter": "python",
   "pygments_lexer": "ipython3",
   "version": "3.5.2"
  }
 },
 "nbformat": 4,
 "nbformat_minor": 0
}
